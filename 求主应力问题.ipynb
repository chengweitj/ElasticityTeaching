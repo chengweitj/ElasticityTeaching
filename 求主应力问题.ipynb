{
 "cells": [
  {
   "cell_type": "markdown",
   "metadata": {},
   "source": [
    "### 题目\n",
    "\n",
    "已知某点的应力张量为\n",
    "\n",
    "$$\n",
    "\\left[\n",
    "\\begin{array}{ccc}\n",
    "\\sigma_{x} & \\tau_{xy}  & \\tau_{xz}\\\\\n",
    "\\tau_{yx}  & \\sigma_{y} & \\tau_{yz}\\\\\n",
    "\\tau_{zx}  & \\tau_{zy}  & \\sigma_{z}\n",
    "\\end{array}\n",
    "\\right]\n",
    "=\n",
    "\\left[\n",
    "\\begin{array}{ccc}\n",
    "0 & 1  & 2\\\\\n",
    "1  & \\sigma_{y} & 1\\\\\n",
    "2  & 1  & 0\n",
    "\\end{array}\n",
    "\\right]\n",
    "$$\n",
    "\n",
    "并已知经过该点的某一平面上的应力矢量为零矢量，求 $\\sigma_y$ 和主应力？"
   ]
  },
  {
   "cell_type": "markdown",
   "metadata": {},
   "source": [
    "### 分析\n",
    "\n",
    "由题意，存在某个微分面（单位法向量为 $\\boldsymbol{n}$），其上的应力矢量 $\\boldsymbol{T}=\\boldsymbol{0}$，即\n",
    "\n",
    "$$\n",
    "\\boldsymbol{T}=\\boldsymbol{\\sigma}\\cdot\\boldsymbol{n}=\n",
    "\\left[\\begin{array}{ccc}\n",
    "0 & 1  & 2\\\\\n",
    "1  & \\sigma_{y} & 1\\\\\n",
    "2  & 1  & 0\n",
    "\\end{array}\n",
    "\\right]\n",
    "\\left[\n",
    "\\begin{array}{c}\n",
    "n_1\\\\\n",
    "n_2\\\\\n",
    "n_3\n",
    "\\end{array}\n",
    "\\right]\n",
    "=\n",
    "\\left[\n",
    "\\begin{array}{c}\n",
    "0\\\\\n",
    "0\\\\\n",
    "0\n",
    "\\end{array}\n",
    "\\right]\n",
    "$$"
   ]
  },
  {
   "cell_type": "markdown",
   "metadata": {},
   "source": [
    "### 行列式必须为零\n",
    "\n",
    "线性方程组存在非零解，必然行列式为零，即\n",
    "\n",
    "$$\n",
    "\\left|\\begin{array}{ccc}\n",
    "0 & 1  & 2\\\\\n",
    "1  & \\sigma_{y} & 1\\\\\n",
    "2  & 1  & 0\n",
    "\\end{array}\n",
    "\\right|\n",
    "= 0 + 2 + 2 -4\\sigma_y - 0 - 0\n",
    "= 0\n",
    "$$\n",
    "\n",
    "求得 $\\sigma_y = 1$。"
   ]
  },
  {
   "cell_type": "markdown",
   "metadata": {},
   "source": [
    "### 应力张量\n",
    "\n",
    "于是，应力张量为\n",
    "\n",
    "$$\n",
    "\\left[\n",
    "\\begin{array}{ccc}\n",
    "\\sigma_{x} & \\tau_{xy}  & \\tau_{xz}\\\\\n",
    "\\tau_{yx}  & \\sigma_{y} & \\tau_{yz}\\\\\n",
    "\\tau_{zx}  & \\tau_{zy}  & \\sigma_{z}\n",
    "\\end{array}\n",
    "\\right]\n",
    "=\n",
    "\\left[\n",
    "\\begin{array}{ccc}\n",
    "0 & 1  & 2\\\\\n",
    "1  & 1 & 1\\\\\n",
    "2  & 1  & 0\n",
    "\\end{array}\n",
    "\\right]\n",
    "$$"
   ]
  },
  {
   "cell_type": "markdown",
   "metadata": {},
   "source": [
    "### 特征值问题\n",
    "\n",
    "求主应力，即为求应力张量的特征值。"
   ]
  },
  {
   "cell_type": "markdown",
   "metadata": {},
   "source": [
    "### 特征值问题\n",
    "\n",
    "$$\\left|\\,\\boldsymbol{\\sigma}-\\sigma\\boldsymbol{I} \\,\\right| = 0$$\n",
    "\n",
    "或\n",
    "\n",
    "$$\n",
    "\\left|\n",
    "\\begin{array}{ccc}\n",
    "-\\sigma & 1  & 2\\\\\n",
    "1  & 1-\\sigma & 1\\\\\n",
    "2  & 1  & -\\sigma\n",
    "\\end{array}\n",
    "\\right|\n",
    "=\n",
    "(1-\\sigma)\\sigma^2 + 2 + 2 - 4(1-\\sigma) + \\sigma + \\sigma = 0\n",
    "$$"
   ]
  },
  {
   "cell_type": "markdown",
   "metadata": {},
   "source": [
    "整理得\n",
    "\n",
    "$$\n",
    "-\\sigma^3 + \\sigma^2  + 6\\sigma = -\\sigma(\\sigma-3)(\\sigma+2) = 0\n",
    "$$"
   ]
  },
  {
   "cell_type": "markdown",
   "metadata": {},
   "source": [
    "### 主应力\n",
    "\n",
    "得到三个主应力分别为\n",
    "$$\n",
    "\\left\\{\n",
    "\\begin{array}{rcr}\n",
    "\\sigma_1 & = & 3\\\\\n",
    "\\sigma_2 & = & 0\\\\\n",
    "\\sigma_3 & = & -2\n",
    "\\end{array}\n",
    "\\right.\n",
    "$$"
   ]
  },
  {
   "cell_type": "markdown",
   "metadata": {},
   "source": [
    "### 符号运算求特征值\n",
    "\n",
    "- 调用 Python 下的 sympy 模块"
   ]
  },
  {
   "cell_type": "code",
   "execution_count": 1,
   "metadata": {},
   "outputs": [],
   "source": [
    "from sympy import init_printing, Matrix"
   ]
  },
  {
   "cell_type": "code",
   "execution_count": 2,
   "metadata": {},
   "outputs": [],
   "source": [
    "init_printing(use_unicode=True)"
   ]
  },
  {
   "cell_type": "markdown",
   "metadata": {},
   "source": [
    "#### `Matrix` 对象表示应力矩阵"
   ]
  },
  {
   "cell_type": "code",
   "execution_count": 3,
   "metadata": {},
   "outputs": [
    {
     "data": {
      "image/png": "[encoded data removed]",
      "text/latex": [
       "$$\\left[\\begin{matrix}0 & 1 & 2\\\\1 & 1 & 1\\\\2 & 1 & 0\\end{matrix}\\right]$$"
      ],
      "text/plain": [
       "⎡0  1  2⎤\n",
       "⎢       ⎥\n",
       "⎢1  1  1⎥\n",
       "⎢       ⎥\n",
       "⎣2  1  0⎦"
      ]
     },
     "execution_count": 3,
     "metadata": {},
     "output_type": "execute_result"
    }
   ],
   "source": [
    "# 生成矩阵对象\n",
    "sigma = Matrix([[0, 1, 2],[1, 1, 1], [2, 1, 0]])\n",
    "sigma"
   ]
  },
  {
   "cell_type": "markdown",
   "metadata": {},
   "source": [
    "#### 求特征值\n",
    "\n",
    "- 前已求得三个主应力分别为\n",
    "$$\n",
    "\\left\\{\n",
    "\\begin{array}{rcr}\n",
    "\\sigma_1 & = & 3\\\\\n",
    "\\sigma_2 & = & 0\\\\\n",
    "\\sigma_3 & = & -2\n",
    "\\end{array}\n",
    "\\right.\n",
    "$$\n",
    "\n",
    "- 调用 Matrix 对象的 eigenvals 方法"
   ]
  },
  {
   "cell_type": "code",
   "execution_count": 4,
   "metadata": {},
   "outputs": [
    {
     "data": {
      "image/png": "[encoded data removed]",
      "text/latex": [
       "$$\\left \\{ -2 : 1, \\quad 0 : 1, \\quad 3 : 1\\right \\}$$"
      ],
      "text/plain": [
       "{-2: 1, 0: 1, 3: 1}"
      ]
     },
     "execution_count": 4,
     "metadata": {},
     "output_type": "execute_result"
    }
   ],
   "source": [
    "sigma.eigenvals()"
   ]
  },
  {
   "cell_type": "markdown",
   "metadata": {},
   "source": [
    "- 冒号后的数字表示`一重`特征值"
   ]
  },
  {
   "cell_type": "markdown",
   "metadata": {},
   "source": [
    "#### 求特征矢量\n",
    "\n",
    "- 调用 Matrix 对象的 eigenvects 方法"
   ]
  },
  {
   "cell_type": "code",
   "execution_count": 5,
   "metadata": {},
   "outputs": [
    {
     "data": {
      "image/png": "[encoded data removed]",
      "text/latex": [
       "$$\\left [ \\left ( -2, \\quad 1, \\quad \\left [ \\left[\\begin{matrix}-1\\\\0\\\\1\\end{matrix}\\right]\\right ]\\right ), \\quad \\left ( 0, \\quad 1, \\quad \\left [ \\left[\\begin{matrix}1\\\\-2\\\\1\\end{matrix}\\right]\\right ]\\right ), \\quad \\left ( 3, \\quad 1, \\quad \\left [ \\left[\\begin{matrix}1\\\\1\\\\1\\end{matrix}\\right]\\right ]\\right )\\right ]$$"
      ],
      "text/plain": [
       "⎡⎛       ⎡⎡-1⎤⎤⎞  ⎛      ⎡⎡1 ⎤⎤⎞  ⎛      ⎡⎡1⎤⎤⎞⎤\n",
       "⎢⎜       ⎢⎢  ⎥⎥⎟  ⎜      ⎢⎢  ⎥⎥⎟  ⎜      ⎢⎢ ⎥⎥⎟⎥\n",
       "⎢⎜-2, 1, ⎢⎢0 ⎥⎥⎟, ⎜0, 1, ⎢⎢-2⎥⎥⎟, ⎜3, 1, ⎢⎢1⎥⎥⎟⎥\n",
       "⎢⎜       ⎢⎢  ⎥⎥⎟  ⎜      ⎢⎢  ⎥⎥⎟  ⎜      ⎢⎢ ⎥⎥⎟⎥\n",
       "⎣⎝       ⎣⎣1 ⎦⎦⎠  ⎝      ⎣⎣1 ⎦⎦⎠  ⎝      ⎣⎣1⎦⎦⎠⎦"
      ]
     },
     "execution_count": 5,
     "metadata": {},
     "output_type": "execute_result"
    }
   ],
   "source": [
    "Matrix([[0, 1, 2],[1, 1, 1], [2, 1, 0]]).eigenvects()"
   ]
  }
 ],
 "metadata": {
  "kernelspec": {
   "display_name": "Python 3",
   "language": "python",
   "name": "python3"
  },
  "language_info": {
   "codemirror_mode": {
    "name": "ipython",
    "version": 3
   },
   "file_extension": ".py",
   "mimetype": "text/x-python",
   "name": "python",
   "nbconvert_exporter": "python",
   "pygments_lexer": "ipython3",
   "version": "3.6.4"
  }
 },
 "nbformat": 4,
 "nbformat_minor": 2
}
