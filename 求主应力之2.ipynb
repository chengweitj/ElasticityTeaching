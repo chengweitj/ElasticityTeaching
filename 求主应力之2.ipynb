{
 "cells": [
  {
   "cell_type": "markdown",
   "metadata": {},
   "source": [
    "## 问题\n",
    "\n",
    "已知某应力张量的分量为\n",
    "\n",
    "$$\n",
    "\\sigma_{11}=3,\\quad\\sigma_{12} = \\sigma_{13} = 1, \\quad \\sigma_{22} = \\sigma_{33} = 0, \\quad\\sigma_{23} = 2\n",
    "$$\n",
    "\n",
    "求\n",
    "\n",
    "- 1、全部主应力\n",
    "- 2、最大主应力对应的主方向\n",
    "- 3、求方向矢量为 $\\boldsymbol{n} = \\left(0, \\dfrac{1}{\\sqrt{2}}, \\dfrac{1}{\\sqrt{2}}\\right)$ 的斜面上的正应力 $\\sigma_n$ 和剪应力 $\\tau_n$。"
   ]
  },
  {
   "cell_type": "markdown",
   "metadata": {},
   "source": [
    "### 应力张量\n",
    "\n",
    "已知应力张量有如下形式\n",
    "\n",
    "$$\n",
    "\\left[\n",
    "\\begin{array}{ccc}\n",
    "\\sigma_{x} & \\tau_{xy}  & \\tau_{xz}\\\\\n",
    "\\tau_{yx}  & \\sigma_{y} & \\tau_{yz}\\\\\n",
    "\\tau_{zx}  & \\tau_{zy}  & \\sigma_{z}\n",
    "\\end{array}\n",
    "\\right]\n",
    "=\n",
    "\\left[\n",
    "\\begin{array}{ccc}\n",
    "3  & 1  & 1\\\\\n",
    "1  & 0  & 2\\\\\n",
    "1  & 2  & 0\n",
    "\\end{array}\n",
    "\\right]\n",
    "$$"
   ]
  },
  {
   "cell_type": "markdown",
   "metadata": {},
   "source": [
    "### 导入 sympy 模块"
   ]
  },
  {
   "cell_type": "code",
   "execution_count": 1,
   "metadata": {},
   "outputs": [],
   "source": [
    "from sympy import *\n",
    "init_printing(use_unicode=True)"
   ]
  },
  {
   "cell_type": "markdown",
   "metadata": {},
   "source": [
    "### `Matrix` 对象表示应力矩阵"
   ]
  },
  {
   "cell_type": "code",
   "execution_count": 2,
   "metadata": {},
   "outputs": [
    {
     "data": {
      "image/png": "[encoded data removed]",
      "text/latex": [
       "$$\\left[\\begin{matrix}3 & 1 & 1\\\\1 & 0 & 2\\\\1 & 2 & 0\\end{matrix}\\right]$$"
      ],
      "text/plain": [
       "⎡3  1  1⎤\n",
       "⎢       ⎥\n",
       "⎢1  0  2⎥\n",
       "⎢       ⎥\n",
       "⎣1  2  0⎦"
      ]
     },
     "execution_count": 2,
     "metadata": {},
     "output_type": "execute_result"
    }
   ],
   "source": [
    "# 生成矩阵对象\n",
    "sigma = Matrix([[3, 1, 1],[1, 0, 2], [1, 2, 0]])\n",
    "sigma"
   ]
  },
  {
   "cell_type": "markdown",
   "metadata": {},
   "source": [
    "### 1、求全部主应力\n",
    "\n",
    "#### 求特征值\n",
    "\n",
    "- 调用 Matrix 对象的 eigenvals 方法"
   ]
  },
  {
   "cell_type": "code",
   "execution_count": 3,
   "metadata": {},
   "outputs": [
    {
     "data": {
      "image/png": "[encoded data removed]",
      "text/latex": [
       "$$\\left \\{ -2 : 1, \\quad 1 : 1, \\quad 4 : 1\\right \\}$$"
      ],
      "text/plain": [
       "{-2: 1, 1: 1, 4: 1}"
      ]
     },
     "execution_count": 3,
     "metadata": {},
     "output_type": "execute_result"
    }
   ],
   "source": [
    "sigma.eigenvals()"
   ]
  },
  {
   "cell_type": "markdown",
   "metadata": {},
   "source": [
    "- 冒号后的数字表示`一重`特征值"
   ]
  },
  {
   "cell_type": "markdown",
   "metadata": {},
   "source": [
    "#### 求特征矢量\n",
    "\n",
    "- 调用 Matrix 对象的 eigenvects 方法"
   ]
  },
  {
   "cell_type": "code",
   "execution_count": 4,
   "metadata": {},
   "outputs": [
    {
     "data": {
      "image/png": "[encoded data removed]",
      "text/latex": [
       "$$\\left [ \\left ( -2, \\quad 1, \\quad \\left [ \\left[\\begin{matrix}0\\\\-1\\\\1\\end{matrix}\\right]\\right ]\\right ), \\quad \\left ( 1, \\quad 1, \\quad \\left [ \\left[\\begin{matrix}-1\\\\1\\\\1\\end{matrix}\\right]\\right ]\\right ), \\quad \\left ( 4, \\quad 1, \\quad \\left [ \\left[\\begin{matrix}2\\\\1\\\\1\\end{matrix}\\right]\\right ]\\right )\\right ]$$"
      ],
      "text/plain": [
       "⎡⎛       ⎡⎡0 ⎤⎤⎞  ⎛      ⎡⎡-1⎤⎤⎞  ⎛      ⎡⎡2⎤⎤⎞⎤\n",
       "⎢⎜       ⎢⎢  ⎥⎥⎟  ⎜      ⎢⎢  ⎥⎥⎟  ⎜      ⎢⎢ ⎥⎥⎟⎥\n",
       "⎢⎜-2, 1, ⎢⎢-1⎥⎥⎟, ⎜1, 1, ⎢⎢1 ⎥⎥⎟, ⎜4, 1, ⎢⎢1⎥⎥⎟⎥\n",
       "⎢⎜       ⎢⎢  ⎥⎥⎟  ⎜      ⎢⎢  ⎥⎥⎟  ⎜      ⎢⎢ ⎥⎥⎟⎥\n",
       "⎣⎝       ⎣⎣1 ⎦⎦⎠  ⎝      ⎣⎣1 ⎦⎦⎠  ⎝      ⎣⎣1⎦⎦⎠⎦"
      ]
     },
     "execution_count": 4,
     "metadata": {},
     "output_type": "execute_result"
    }
   ],
   "source": [
    "sigma.eigenvects()"
   ]
  },
  {
   "cell_type": "markdown",
   "metadata": {},
   "source": [
    "### 2、求最大主应力对应的主方向\n",
    "\n",
    "#### 最大主应力\n",
    "\n",
    "$$\\sigma_1 = 4$$\n",
    "\n",
    "#### 最大主应力对应的主方向\n",
    "\n",
    "$$\\dfrac{1}{\\sqrt{6}}\\left(2, 1, 1\\right)$$"
   ]
  },
  {
   "cell_type": "markdown",
   "metadata": {},
   "source": [
    "### 3、求斜面上的正应力  $\\sigma_n$  和剪应力 $\\tau_n$ \n",
    "\n",
    "#### 方向矢量\n",
    "\n",
    "$$\\boldsymbol{n} = \\left(0, \\dfrac{1}{\\sqrt{2}}, \\dfrac{1}{\\sqrt{2}}\\right)$$"
   ]
  },
  {
   "cell_type": "code",
   "execution_count": 5,
   "metadata": {},
   "outputs": [
    {
     "data": {
      "image/png": "[encoded data removed]",
      "text/latex": [
       "$$\\left[\\begin{matrix}0\\\\\\frac{\\sqrt{2}}{2}\\\\\\frac{\\sqrt{2}}{2}\\end{matrix}\\right]$$"
      ],
      "text/plain": [
       "⎡0 ⎤\n",
       "⎢  ⎥\n",
       "⎢√2⎥\n",
       "⎢──⎥\n",
       "⎢2 ⎥\n",
       "⎢  ⎥\n",
       "⎢√2⎥\n",
       "⎢──⎥\n",
       "⎣2 ⎦"
      ]
     },
     "execution_count": 5,
     "metadata": {},
     "output_type": "execute_result"
    }
   ],
   "source": [
    "n = Matrix([[0],[1],[1]])/sqrt(2)\n",
    "n"
   ]
  },
  {
   "cell_type": "markdown",
   "metadata": {},
   "source": [
    "#### 应力矢量 $\\boldsymbol{T} = \\boldsymbol{\\sigma}\\cdot\\boldsymbol{n}$"
   ]
  },
  {
   "cell_type": "code",
   "execution_count": 6,
   "metadata": {},
   "outputs": [
    {
     "data": {
      "image/png": "[encoded data removed]",
      "text/latex": [
       "$$\\left[\\begin{matrix}\\sqrt{2}\\\\\\sqrt{2}\\\\\\sqrt{2}\\end{matrix}\\right]$$"
      ],
      "text/plain": [
       "⎡√2⎤\n",
       "⎢  ⎥\n",
       "⎢√2⎥\n",
       "⎢  ⎥\n",
       "⎣√2⎦"
      ]
     },
     "execution_count": 6,
     "metadata": {},
     "output_type": "execute_result"
    }
   ],
   "source": [
    "T = sigma*n\n",
    "T"
   ]
  },
  {
   "cell_type": "markdown",
   "metadata": {},
   "source": [
    "### 正应力  $\\sigma_n = \\boldsymbol{T}\\cdot\\boldsymbol{n}$"
   ]
  },
  {
   "cell_type": "code",
   "execution_count": 7,
   "metadata": {},
   "outputs": [
    {
     "data": {
      "image/png": "[encoded data removed]",
      "text/latex": [
       "$$\\left[\\begin{matrix}2\\end{matrix}\\right]$$"
      ],
      "text/plain": [
       "[2]"
      ]
     },
     "execution_count": 7,
     "metadata": {},
     "output_type": "execute_result"
    }
   ],
   "source": [
    "sigma_n = T.T*n\n",
    "sigma_n"
   ]
  },
  {
   "cell_type": "markdown",
   "metadata": {},
   "source": [
    "### 剪应力\n",
    "\n",
    "$$\\tau_n = \\sqrt{T^2 - \\sigma_n^2}$$"
   ]
  },
  {
   "cell_type": "code",
   "execution_count": 8,
   "metadata": {},
   "outputs": [
    {
     "data": {
      "image/png": "[encoded data removed]",
      "text/latex": [
       "$$\\left(\\left[\\begin{matrix}2\\end{matrix}\\right]\\right)^{\\frac{1}{2}}$$"
      ],
      "text/plain": [
       "     1/2\n",
       "([2])   "
      ]
     },
     "execution_count": 8,
     "metadata": {},
     "output_type": "execute_result"
    }
   ],
   "source": [
    "tau_n = sqrt(T.T*T-sigma_n**2)\n",
    "tau_n"
   ]
  },
  {
   "cell_type": "markdown",
   "metadata": {},
   "source": [
    "### 结束"
   ]
  }
 ],
 "metadata": {
  "kernelspec": {
   "display_name": "Python 3",
   "language": "python",
   "name": "python3"
  },
  "language_info": {
   "codemirror_mode": {
    "name": "ipython",
    "version": 3
   },
   "file_extension": ".py",
   "mimetype": "text/x-python",
   "name": "python",
   "nbconvert_exporter": "python",
   "pygments_lexer": "ipython3",
   "version": "3.6.4"
  }
 },
 "nbformat": 4,
 "nbformat_minor": 2
}
